{
 "cells": [
  {
   "cell_type": "markdown",
   "metadata": {},
   "source": [
    "# Collaboration and Competition\n",
    "\n",
    "---\n",
    "\n",
    "In this notebook, you will learn how to use the Unity ML-Agents environment for the third project of the [Deep Reinforcement Learning Nanodegree](https://www.udacity.com/course/deep-reinforcement-learning-nanodegree--nd893) program.\n",
    "\n",
    "### 1. Start the Environment\n",
    "\n",
    "We begin by importing the necessary packages.  If the code cell below returns an error, please revisit the project instructions to double-check that you have installed [Unity ML-Agents](https://github.com/Unity-Technologies/ml-agents/blob/master/docs/Installation.md) and [NumPy](http://www.numpy.org/)."
   ]
  },
  {
   "cell_type": "code",
   "execution_count": 1,
   "metadata": {},
   "outputs": [],
   "source": [
    "from unityagents import UnityEnvironment\n",
    "import numpy as np"
   ]
  },
  {
   "cell_type": "markdown",
   "metadata": {},
   "source": [
    "Next, we will start the environment!  **_Before running the code cell below_**, change the `file_name` parameter to match the location of the Unity environment that you downloaded.\n",
    "\n",
    "- **Mac**: `\"path/to/Tennis.app\"`\n",
    "- **Windows** (x86): `\"path/to/Tennis_Windows_x86/Tennis.exe\"`\n",
    "- **Windows** (x86_64): `\"path/to/Tennis_Windows_x86_64/Tennis.exe\"`\n",
    "- **Linux** (x86): `\"path/to/Tennis_Linux/Tennis.x86\"`\n",
    "- **Linux** (x86_64): `\"path/to/Tennis_Linux/Tennis.x86_64\"`\n",
    "- **Linux** (x86, headless): `\"path/to/Tennis_Linux_NoVis/Tennis.x86\"`\n",
    "- **Linux** (x86_64, headless): `\"path/to/Tennis_Linux_NoVis/Tennis.x86_64\"`\n",
    "\n",
    "For instance, if you are using a Mac, then you downloaded `Tennis.app`.  If this file is in the same folder as the notebook, then the line below should appear as follows:\n",
    "```\n",
    "env = UnityEnvironment(file_name=\"Tennis.app\")\n",
    "```"
   ]
  },
  {
   "cell_type": "code",
   "execution_count": 2,
   "metadata": {},
   "outputs": [
    {
     "name": "stderr",
     "output_type": "stream",
     "text": [
      "INFO:unityagents:\n",
      "'Academy' started successfully!\n",
      "Unity Academy name: Academy\n",
      "        Number of Brains: 1\n",
      "        Number of External Brains : 1\n",
      "        Lesson number : 0\n",
      "        Reset Parameters :\n",
      "\t\t\n",
      "Unity brain name: TennisBrain\n",
      "        Number of Visual Observations (per agent): 0\n",
      "        Vector Observation space type: continuous\n",
      "        Vector Observation space size (per agent): 8\n",
      "        Number of stacked Vector Observation: 3\n",
      "        Vector Action space type: continuous\n",
      "        Vector Action space size (per agent): 2\n",
      "        Vector Action descriptions: , \n"
     ]
    }
   ],
   "source": [
    "env = UnityEnvironment(file_name=\"Tennis_Windows_x86_64/Tennis.exe\")"
   ]
  },
  {
   "cell_type": "markdown",
   "metadata": {},
   "source": [
    "Environments contain **_brains_** which are responsible for deciding the actions of their associated agents. Here we check for the first brain available, and set it as the default brain we will be controlling from Python."
   ]
  },
  {
   "cell_type": "code",
   "execution_count": 3,
   "metadata": {},
   "outputs": [],
   "source": [
    "# get the default brain\n",
    "brain_name = env.brain_names[0]\n",
    "brain = env.brains[brain_name]"
   ]
  },
  {
   "cell_type": "markdown",
   "metadata": {},
   "source": [
    "### 2. Examine the State and Action Spaces\n",
    "\n",
    "In this environment, two agents control rackets to bounce a ball over a net. If an agent hits the ball over the net, it receives a reward of +0.1.  If an agent lets a ball hit the ground or hits the ball out of bounds, it receives a reward of -0.01.  Thus, the goal of each agent is to keep the ball in play.\n",
    "\n",
    "The observation space consists of 8 variables corresponding to the position and velocity of the ball and racket. Two continuous actions are available, corresponding to movement toward (or away from) the net, and jumping. \n",
    "\n",
    "Run the code cell below to print some information about the environment."
   ]
  },
  {
   "cell_type": "code",
   "execution_count": 4,
   "metadata": {},
   "outputs": [
    {
     "name": "stdout",
     "output_type": "stream",
     "text": [
      "Number of agents: 2\n",
      "Size of each action: 2\n",
      "There are 2 agents. Each observes a state with length: 24\n",
      "The state for the first agent looks like: [ 0.          0.          0.          0.          0.          0.\n",
      "  0.          0.          0.          0.          0.          0.\n",
      "  0.          0.          0.          0.         -6.65278625 -1.5\n",
      " -0.          0.          6.83172083  6.         -0.          0.        ]\n"
     ]
    }
   ],
   "source": [
    "# reset the environment\n",
    "env_info = env.reset(train_mode=True)[brain_name]\n",
    "\n",
    "# number of agents \n",
    "num_agents = len(env_info.agents)\n",
    "print('Number of agents:', num_agents)\n",
    "\n",
    "# size of each action\n",
    "action_size = brain.vector_action_space_size\n",
    "print('Size of each action:', action_size)\n",
    "\n",
    "# examine the state space \n",
    "states = env_info.vector_observations\n",
    "state_size = states.shape[1]\n",
    "print('There are {} agents. Each observes a state with length: {}'.format(states.shape[0], state_size))\n",
    "print('The state for the first agent looks like:', states[0])"
   ]
  },
  {
   "cell_type": "markdown",
   "metadata": {},
   "source": [
    "### 3. Take Random Actions in the Environment\n",
    "\n",
    "In the next code cell, you will learn how to use the Python API to control the agents and receive feedback from the environment.\n",
    "\n",
    "Once this cell is executed, you will watch the agents' performance, if they select actions at random with each time step.  A window should pop up that allows you to observe the agents.\n",
    "\n",
    "Of course, as part of the project, you'll have to change the code so that the agents are able to use their experiences to gradually choose better actions when interacting with the environment!"
   ]
  },
  {
   "cell_type": "code",
   "execution_count": 5,
   "metadata": {},
   "outputs": [
    {
     "name": "stdout",
     "output_type": "stream",
     "text": [
      "Score (max over agents) from episode 1: 0.0\n",
      "Score (max over agents) from episode 2: 0.0\n",
      "Score (max over agents) from episode 3: 0.0\n",
      "Score (max over agents) from episode 4: 0.09000000171363354\n",
      "Score (max over agents) from episode 5: 0.0\n"
     ]
    }
   ],
   "source": [
    "for i in range(1, 6):                                      # play game for 5 episodes\n",
    "    env_info = env.reset(train_mode=False)[brain_name]     # reset the environment    \n",
    "    states = env_info.vector_observations                  # get the current state (for each agent)\n",
    "    scores = np.zeros(num_agents)                          # initialize the score (for each agent)\n",
    "    while True:\n",
    "        actions = np.random.randn(num_agents, action_size) # select an action (for each agent)\n",
    "        actions = np.clip(actions, -1, 1)                  # all actions between -1 and 1\n",
    "        env_info = env.step(actions)[brain_name]           # send all actions to tne environment\n",
    "        next_states = env_info.vector_observations         # get next state (for each agent)\n",
    "        rewards = env_info.rewards                         # get reward (for each agent)\n",
    "        dones = env_info.local_done                        # see if episode finished\n",
    "        scores += env_info.rewards                         # update the score (for each agent)\n",
    "        states = next_states                               # roll over states to next time step\n",
    "        if np.any(dones):                                  # exit loop if episode finished\n",
    "            break\n",
    "    print('Score (max over agents) from episode {}: {}'.format(i, np.max(scores)))"
   ]
  },
  {
   "cell_type": "markdown",
   "metadata": {},
   "source": [
    "When finished, you can close the environment."
   ]
  },
  {
   "cell_type": "code",
   "execution_count": 6,
   "metadata": {},
   "outputs": [],
   "source": [
    "#env.close()"
   ]
  },
  {
   "cell_type": "markdown",
   "metadata": {},
   "source": [
    "### 4. It's Your Turn!\n",
    "\n",
    "Now it's your turn to train your own agent to solve the environment!  When training the environment, set `train_mode=True`, so that the line for resetting the environment looks like the following:\n",
    "```python\n",
    "env_info = env.reset(train_mode=True)[brain_name]\n",
    "```"
   ]
  },
  {
   "cell_type": "code",
   "execution_count": 7,
   "metadata": {},
   "outputs": [],
   "source": [
    "import random\n",
    "import torch\n",
    "from collections import deque\n",
    "import matplotlib.pyplot as plt\n",
    "%matplotlib inline\n",
    "\n",
    "from ddpg_agent import Agent"
   ]
  },
  {
   "cell_type": "code",
   "execution_count": 8,
   "metadata": {},
   "outputs": [],
   "source": [
    "agent = Agent(state_size, action_size, random_seed=0, num_agents = num_agents)"
   ]
  },
  {
   "cell_type": "code",
   "execution_count": 9,
   "metadata": {},
   "outputs": [
    {
     "name": "stdout",
     "output_type": "stream",
     "text": [
      "Episode 100\tAverage Score: 0.00\n",
      "*Episode 100\tAverage Score: 0.00\n",
      "Episode 200\tAverage Score: 0.010\n",
      "*Episode 200\tAverage Score: 0.01\n",
      "Episode 300\tAverage Score: 0.01\n",
      "*Episode 300\tAverage Score: 0.01\n",
      "Episode 400\tAverage Score: 0.01\n",
      "*Episode 400\tAverage Score: 0.01\n",
      "Episode 500\tAverage Score: 0.000\n",
      "*Episode 500\tAverage Score: 0.00\n",
      "Episode 600\tAverage Score: 0.040\n",
      "*Episode 600\tAverage Score: 0.04\n",
      "Episode 700\tAverage Score: 0.06\n",
      "*Episode 700\tAverage Score: 0.06\n",
      "Episode 800\tAverage Score: 0.05\n",
      "*Episode 800\tAverage Score: 0.05\n",
      "Episode 900\tAverage Score: 0.09\n",
      "*Episode 900\tAverage Score: 0.09\n",
      "Episode 1000\tAverage Score: 0.08\n",
      "*Episode 1000\tAverage Score: 0.08\n",
      "Episode 1100\tAverage Score: 0.09\n",
      "*Episode 1100\tAverage Score: 0.09\n",
      "Episode 1200\tAverage Score: 0.09\n",
      "*Episode 1200\tAverage Score: 0.09\n",
      "Episode 1300\tAverage Score: 0.11\n",
      "*Episode 1300\tAverage Score: 0.11\n",
      "Episode 1400\tAverage Score: 0.15\n",
      "*Episode 1400\tAverage Score: 0.15\n",
      "Episode 1500\tAverage Score: 0.46\n",
      "*Episode 1500\tAverage Score: 0.46\n",
      "Episode 1600\tAverage Score: 0.59\n",
      "*Episode 1600\tAverage Score: 0.59\n",
      "Episode 1700\tAverage Score: 0.73\n",
      "*Episode 1700\tAverage Score: 0.73\n",
      "Episode 1800\tAverage Score: 0.39\n",
      "*Episode 1800\tAverage Score: 0.39\n",
      "Episode 1900\tAverage Score: 0.74\n",
      "*Episode 1900\tAverage Score: 0.74\n",
      "Episode 2000\tAverage Score: 0.55\n",
      "*Episode 2000\tAverage Score: 0.55\n",
      "Episode 2100\tAverage Score: 0.52\n",
      "*Episode 2100\tAverage Score: 0.52\n",
      "Episode 2200\tAverage Score: 0.29\n",
      "*Episode 2200\tAverage Score: 0.29\n",
      "Episode 2300\tAverage Score: 0.51\n",
      "*Episode 2300\tAverage Score: 0.51\n",
      "Episode 2400\tAverage Score: 0.56\n",
      "*Episode 2400\tAverage Score: 0.56\n",
      "Episode 2500\tAverage Score: 0.45\n",
      "*Episode 2500\tAverage Score: 0.45\n",
      "Episode 2600\tAverage Score: 0.55\n",
      "*Episode 2600\tAverage Score: 0.55\n",
      "Episode 2700\tAverage Score: 0.51\n",
      "*Episode 2700\tAverage Score: 0.51\n",
      "Episode 2800\tAverage Score: 0.36\n",
      "*Episode 2800\tAverage Score: 0.36\n",
      "Episode 2900\tAverage Score: 0.29\n",
      "*Episode 2900\tAverage Score: 0.29\n",
      "Episode 3000\tAverage Score: 0.44\n",
      "*Episode 3000\tAverage Score: 0.44\n",
      "Episode 3100\tAverage Score: 0.56\n",
      "*Episode 3100\tAverage Score: 0.56\n",
      "Episode 3200\tAverage Score: 0.58\n",
      "*Episode 3200\tAverage Score: 0.58\n",
      "Episode 3300\tAverage Score: 0.49\n",
      "*Episode 3300\tAverage Score: 0.49\n",
      "Episode 3400\tAverage Score: 0.37\n",
      "*Episode 3400\tAverage Score: 0.37\n",
      "Episode 3500\tAverage Score: 0.35\n",
      "*Episode 3500\tAverage Score: 0.35\n",
      "Episode 3600\tAverage Score: 0.41\n",
      "*Episode 3600\tAverage Score: 0.41\n",
      "Episode 3700\tAverage Score: 0.47\n",
      "*Episode 3700\tAverage Score: 0.47\n",
      "Episode 3800\tAverage Score: 0.35\n",
      "*Episode 3800\tAverage Score: 0.35\n",
      "Episode 3900\tAverage Score: 0.39\n",
      "*Episode 3900\tAverage Score: 0.39\n",
      "Episode 4000\tAverage Score: 0.55\n",
      "*Episode 4000\tAverage Score: 0.55\n"
     ]
    },
    {
     "data": {
      "image/png": "[encoded data removed]",
      "text/plain": [
       "<Figure size 432x288 with 1 Axes>"
      ]
     },
     "metadata": {
      "needs_background": "light"
     },
     "output_type": "display_data"
    }
   ],
   "source": [
    "def ddpg(n_episodes=4000, print_every=100):\n",
    "    scores_deque = deque(maxlen=print_every)\n",
    "    scores = []\n",
    "    for i_episode in range(1, n_episodes+1):\n",
    "        env_info = env.reset(train_mode=True)[brain_name]\n",
    "        states = env_info.vector_observations  \n",
    "        state = states\n",
    "        agent.reset()\n",
    "        score = 0\n",
    "        t=0\n",
    "        while True:\n",
    "            action = agent.act(state)\n",
    "            env_info = env.step(action)[brain_name]\n",
    "            reward = env_info.rewards\n",
    "            next_state = env_info.vector_observations\n",
    "            done = env_info.local_done\n",
    "            #reward=reward2[0]\n",
    "            agent.step(state, action, reward, next_state, done)\n",
    "            state = next_state\n",
    "            score += reward[0]\n",
    "            t= t + 1\n",
    "            if done[0]:\n",
    "                break\n",
    "           \n",
    "        scores_deque.append(score)\n",
    "        scores.append(score)\n",
    "        print('\\rEpisode {}\\tAverage Score: {:.2f}'.format(i_episode, np.mean(scores_deque)), end=\"\")\n",
    "        torch.save(agent.actor_local.state_dict(), 'checkpoint_actor.pth')\n",
    "        torch.save(agent.critic_local.state_dict(), 'checkpoint_critic.pth')\n",
    "        if i_episode % print_every == 0:\n",
    "            print('\\n*Episode {}\\tAverage Score: {:.2f}'.format(i_episode, np.mean(scores_deque)))\n",
    "            \n",
    "    return scores\n",
    "\n",
    "scores = ddpg()\n",
    "\n",
    "fig = plt.figure()\n",
    "ax = fig.add_subplot(111)\n",
    "plt.plot(np.arange(1, len(scores)+1), scores)\n",
    "plt.ylabel('Score')\n",
    "plt.xlabel('Episode #')\n",
    "plt.show()"
   ]
  },
  {
   "cell_type": "code",
   "execution_count": 10,
   "metadata": {},
   "outputs": [],
   "source": [
    "agent.actor_local.load_state_dict(torch.load('checkpoint_actor.pth'))\n",
    "agent.critic_local.load_state_dict(torch.load('checkpoint_critic.pth'))\n",
    "env_info = env.reset(train_mode=False)[brain_name] # reset the environment"
   ]
  },
  {
   "cell_type": "code",
   "execution_count": 11,
   "metadata": {},
   "outputs": [
    {
     "name": "stdout",
     "output_type": "stream",
     "text": [
      "Accion a tomar: [[-0.6740062   0.46384841]\n",
      " [ 1.         -0.88989656]]\n",
      "Accion a tomar: [[-0.6740062   0.46384841]\n",
      " [ 1.         -0.88989656]]\n",
      "Accion a tomar: [[-0.6740062   0.46384841]\n",
      " [ 1.         -0.88989656]]\n",
      "Accion a tomar: [[-0.6740062   0.46384841]\n",
      " [ 1.         -0.88989656]]\n",
      "Accion a tomar: [[-0.6740062   0.46384841]\n",
      " [ 1.         -0.88989656]]\n",
      "Accion a tomar: [[-0.6740062   0.46384841]\n",
      " [ 1.         -0.88989656]]\n",
      "Accion a tomar: [[-0.6740062   0.46384841]\n",
      " [ 1.         -0.88989656]]\n",
      "Score (max over agents) from episode 1: 0.0\n",
      "Accion a tomar: [[-0.6740062   0.46384841]\n",
      " [ 1.         -0.88989656]]\n",
      "Accion a tomar: [[-0.6740062   0.46384841]\n",
      " [ 1.         -0.88989656]]\n",
      "Accion a tomar: [[-0.6740062   0.46384841]\n",
      " [ 1.         -0.88989656]]\n",
      "Accion a tomar: [[-0.6740062   0.46384841]\n",
      " [ 1.         -0.88989656]]\n",
      "Accion a tomar: [[-0.6740062   0.46384841]\n",
      " [ 1.         -0.88989656]]\n",
      "Accion a tomar: [[-0.6740062   0.46384841]\n",
      " [ 1.         -0.88989656]]\n",
      "Accion a tomar: [[-0.6740062   0.46384841]\n",
      " [ 1.         -0.88989656]]\n",
      "Score (max over agents) from episode 2: 0.0\n",
      "Accion a tomar: [[-0.6740062   0.46384841]\n",
      " [ 1.         -0.88989656]]\n",
      "Accion a tomar: [[-0.6740062   0.46384841]\n",
      " [ 1.         -0.88989656]]\n",
      "Accion a tomar: [[-0.6740062   0.46384841]\n",
      " [ 1.         -0.88989656]]\n",
      "Accion a tomar: [[-0.6740062   0.46384841]\n",
      " [ 1.         -0.88989656]]\n",
      "Accion a tomar: [[-0.6740062   0.46384841]\n",
      " [ 1.         -0.88989656]]\n",
      "Accion a tomar: [[-0.6740062   0.46384841]\n",
      " [ 1.         -0.88989656]]\n",
      "Accion a tomar: [[-0.6740062   0.46384841]\n",
      " [ 1.         -0.88989656]]\n",
      "Score (max over agents) from episode 3: 0.0\n",
      "Accion a tomar: [[-0.6740062   0.46384841]\n",
      " [ 1.         -0.88989656]]\n",
      "Accion a tomar: [[-0.6740062   0.46384841]\n",
      " [ 1.         -0.88989656]]\n",
      "Accion a tomar: [[-0.6740062   0.46384841]\n",
      " [ 1.         -0.88989656]]\n",
      "Accion a tomar: [[-0.6740062   0.46384841]\n",
      " [ 1.         -0.88989656]]\n",
      "Accion a tomar: [[-0.6740062   0.46384841]\n",
      " [ 1.         -0.88989656]]\n",
      "Accion a tomar: [[-0.6740062   0.46384841]\n",
      " [ 1.         -0.88989656]]\n",
      "Accion a tomar: [[-0.6740062   0.46384841]\n",
      " [ 1.         -0.88989656]]\n",
      "Accion a tomar: [[-0.6740062   0.46384841]\n",
      " [ 1.         -0.88989656]]\n",
      "Accion a tomar: [[-0.6740062   0.46384841]\n",
      " [ 1.         -0.88989656]]\n",
      "Accion a tomar: [[-0.6740062   0.46384841]\n",
      " [ 1.         -0.88989656]]\n",
      "Accion a tomar: [[-0.6740062   0.46384841]\n",
      " [ 1.         -0.88989656]]\n",
      "Accion a tomar: [[-0.6740062   0.46384841]\n",
      " [ 1.         -0.88989656]]\n",
      "Accion a tomar: [[-0.6740062   0.46384841]\n",
      " [ 1.         -0.88989656]]\n",
      "Accion a tomar: [[-0.6740062   0.46384841]\n",
      " [ 1.         -0.88989656]]\n",
      "Accion a tomar: [[-0.6740062   0.46384841]\n",
      " [ 1.         -0.88989656]]\n",
      "Accion a tomar: [[-0.6740062   0.46384841]\n",
      " [ 1.         -0.88989656]]\n",
      "Accion a tomar: [[-0.6740062   0.46384841]\n",
      " [ 1.         -0.88989656]]\n",
      "Accion a tomar: [[-0.6740062   0.46384841]\n",
      " [ 1.         -0.88989656]]\n",
      "Accion a tomar: [[-0.6740062   0.46384841]\n",
      " [ 1.         -0.88989656]]\n",
      "Accion a tomar: [[-0.6740062   0.46384841]\n",
      " [ 1.         -0.88989656]]\n",
      "Accion a tomar: [[-0.6740062   0.46384841]\n",
      " [ 1.         -0.88989656]]\n",
      "Accion a tomar: [[-0.6740062   0.46384841]\n",
      " [ 1.         -0.88989656]]\n",
      "Accion a tomar: [[-0.6740062   0.46384841]\n",
      " [ 1.         -0.88989656]]\n",
      "Accion a tomar: [[-0.6740062   0.46384841]\n",
      " [ 1.         -0.88989656]]\n",
      "Accion a tomar: [[-0.6740062   0.46384841]\n",
      " [ 1.         -0.88989656]]\n",
      "Accion a tomar: [[-0.6740062   0.46384841]\n",
      " [ 1.         -0.88989656]]\n",
      "Accion a tomar: [[-0.6740062   0.46384841]\n",
      " [ 1.         -0.88989656]]\n",
      "Accion a tomar: [[-0.6740062   0.46384841]\n",
      " [ 1.         -0.88989656]]\n",
      "Accion a tomar: [[-0.6740062   0.46384841]\n",
      " [ 1.         -0.88989656]]\n",
      "Score (max over agents) from episode 4: 0.0\n"
     ]
    }
   ],
   "source": [
    "for i in range(1, 5):                                      # play game for 5 episodes\n",
    "    env_info = env.reset(train_mode=False)[brain_name]     # reset the environment    \n",
    "    states = env_info.vector_observations                  # get the current state (for each agent)\n",
    "    scores = np.zeros(num_agents)                          # initialize the score (for each agent)\n",
    "    while True:\n",
    "        action = agent.act(states)\n",
    "        env_info = env.step(action)[brain_name]\n",
    "\n",
    "        print(\"Accion a tomar: \"+str(actions))\n",
    "        env_info = env.step(actions)[brain_name]           # send all actions to tne environment\n",
    "        next_states = env_info.vector_observations         # get next state (for each agent)\n",
    "        rewards = env_info.rewards                         # get reward (for each agent)\n",
    "        dones = env_info.local_done                        # see if episode finished\n",
    "        scores += env_info.rewards                         # update the score (for each agent)\n",
    "        states = next_states                               # roll over states to next time step\n",
    "        if np.any(dones):                                  # exit loop if episode finished\n",
    "            break\n",
    "    print('Score (max over agents) from episode {}: {}'.format(i, np.max(scores)))"
   ]
  },
  {
   "cell_type": "code",
   "execution_count": 12,
   "metadata": {},
   "outputs": [],
   "source": [
    "env.close()"
   ]
  },
  {
   "cell_type": "code",
   "execution_count": null,
   "metadata": {},
   "outputs": [],
   "source": []
  }
 ],
 "metadata": {
  "kernelspec": {
   "display_name": "drlnd",
   "language": "python",
   "name": "drlnd"
  },
  "language_info": {
   "codemirror_mode": {
    "name": "ipython",
    "version": 3
   },
   "file_extension": ".py",
   "mimetype": "text/x-python",
   "name": "python",
   "nbconvert_exporter": "python",
   "pygments_lexer": "ipython3",
   "version": "3.6.13"
  }
 },
 "nbformat": 4,
 "nbformat_minor": 2
}
